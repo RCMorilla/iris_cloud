{
 "cells": [
  {
   "cell_type": "markdown",
   "metadata": {},
   "source": [
    "\n",
    "# Um exemplo de notebook de aprendizado de máquina"
   ]
  },
  {
   "cell_type": "markdown",
   "metadata": {},
   "source": [
    "## Introdução\n",
    "\n",
    "\n",
    "Neste bloco de notas, examinaremos um pipeline básico de análise de dados Python do início ao fim para mostrar como é um fluxo de trabalho típico de ciência de dados.\n"
   ]
  },
  {
   "cell_type": "markdown",
   "metadata": {},
   "source": [
    "## Bibliotecas necessárias\n",
    "\n",
    "Se você não tem Python em seu computador, você pode usar a [distribuição Anaconda Python] (http://continuum.io/downloads) para instalar a maioria dos pacotes Python que você precisa. O Anaconda fornece um instalador simples de clique duplo para sua conveniência.\n",
    "\n",
    "Este notebook usa vários pacotes Python que vêm como padrão com a distribuição Anaconda Python. As principais bibliotecas que usaremos são:\n",
    "\n",
    "* **NumPy**: Fornece uma estrutura de matriz numérica rápida e funções auxiliares.\n",
    "* **pandas**: Fornece uma estrutura DataFrame para armazenar dados na memória e trabalhar com eles de forma fácil e eficiente.\n",
    "* **scikit-learn**: O pacote essencial de aprendizado de máquina em Python.\n",
    "* **matplotlib**: Biblioteca básica de plotagem em Python; a maioria das outras bibliotecas de plotagem Python são construídas sobre ele.\n",
    "* **Seaborn**: Biblioteca de plotagem estatística avançada.\n",
    "* **watermark**: Uma extensão do Jupyter Notebook para imprimir timestamps, números de versão e informações de hardware.\n",
    "\n",
    "\n",
    "Para ter certeza de que possui todos os pacotes de que precisa, instale-os com `conda`:\n",
    "\n",
    "    conda install numpy pandas scikit-learn matplotlib seaborn\n",
    "    \n",
    "    conda install -c conda-forge watermark\n",
    "\n",
    "O `conda` pode solicitar que você atualize alguns deles se você não tiver a versão mais recente. Permita que isso aconteça."
   ]
  },
  {
   "cell_type": "markdown",
   "metadata": {},
   "source": [
    "## O domínio do problema\n",
    "\n",
    "Para os fins deste exercício, vamos fingir que estamos trabalhando para uma startup que acabou de ser financiada para criar um aplicativo para smartphone que identifica automaticamente espécies de flores a partir de fotos tiradas no smartphone. Estamos trabalhando com uma equipe de cientistas de dados de tamanho moderado e construiremos parte do pipeline de análise de dados para este aplicativo.\n",
    "\n",
    "Fomos incumbidos pelo chefe de ciência de dados de nossa empresa de criar um modelo de aprendizado de máquina de demonstração que tira quatro medidas das flores (comprimento da sépala, largura da sépala, comprimento da pétala e largura da pétala) e identifica as espécies com base apenas nessas medidas.\n",
    "\n",
    "<img src = \"images/petal_sepal.jpg\" />\n",
    "\n",
    "Recebemos um [conjunto de dados] (https://github.com/rhiever/Data-Analysis-and-Machine-Learning-Projects/raw/master/example-data-science-notebook/iris-data.csv ) de nossos pesquisadores de campo para desenvolver a demonstração, que inclui apenas medições para três tipos de flores * Iris *:\n",
    "\n",
    "### * Iris setosa *\n",
    "\n",
    "<img src = \"images/iris_setosa.jpg\" />\n",
    "\n",
    "### * Iris versicolor *\n",
    "<img src = \"images/iris_versicolor.jpg\" />\n",
    "\n",
    "### * Iris virginica *\n",
    "<img src = \"images/iris_virginica.jpg\" />\n",
    "\n",
    "As quatro medições que usamos atualmente vêm de medições feitas à mão pelos pesquisadores de campo, mas serão automaticamente medidas por um modelo de processamento de imagem no futuro.\n",
    "\n",
    "** Observação: ** O conjunto de dados com o qual estamos trabalhando é o famoso [* conjunto de dados Iris *] (https://archive.ics.uci.edu/ml/datasets/Iris) - incluído neste bloco de notas mas que foi alterado para fins de demonstração.\n",
    "\n"
   ]
  },
  {
   "cell_type": "markdown",
   "metadata": {},
   "source": [
    "## Etapa 1: Respondendo à pergunta\n",
    "\n",
    "\n",
    "A primeira etapa para qualquer projeto de análise de dados é definir a questão ou problema que estamos procurando resolver e definir uma medida (ou conjunto de medidas) para nosso sucesso em resolver essa tarefa. A lista de verificação de análise de dados nos permite responder a um punhado de perguntas para fazer isso, então vamos trabalhar com essas perguntas.\n",
    "\n",
    "> Você especificou o tipo de pergunta analítica de dados (por exemplo, exploração, causalidade de associação) antes de tocar nos dados?\n",
    "\n",
    "Estamos tentando classificar as espécies (ou seja, classe) da flor com base em quatro medidas que nos são fornecidas: comprimento da sépala, largura da sépala, comprimento da pétala e largura da pétala.\n",
    "\n",
    "> Você definiu a métrica de sucesso antes de começar?\n",
    "\n",
    "Vamos fazer isso agora. Como estamos realizando a classificação, podemos usar [precisão] (https://en.wikipedia.org/wiki/Accuracy_and_precision) - a fração de flores classificadas corretamente - para quantificar o desempenho do nosso modelo. O chefe de dados da nossa empresa nos disse que devemos atingir pelo menos 90% de precisão.\n",
    "\n",
    "> Você entendeu o contexto da pergunta e a aplicação científica ou comercial?\n",
    "\n",
    "Estamos construindo parte de um pipeline de análise de dados para um aplicativo de smartphone que será capaz de classificar as espécies de flores a partir de fotos tiradas no smartphone. No futuro, este pipeline será conectado a outro pipeline que mede automaticamente a partir de imagens as características que estamos usando para realizar essa classificação.\n",
    "\n",
    "> Você gravou o projeto experimental?\n",
    "\n",
    "O chefe de dados de nossa empresa nos disse que os pesquisadores de campo estão medindo manualmente 50 flores amostradas aleatoriamente de cada espécie usando uma metodologia padronizada. Os pesquisadores de campo tiram fotos de cada flor que eles coletam em ângulos pré-definidos para que as medidas e espécies possam ser confirmadas pelos outros pesquisadores de campo posteriormente. No final de cada dia, os dados são compilados e armazenados em um repositório GitHub de uma empresa privada.\n",
    "\n",
    "> Você considerou se a pergunta poderia ser respondida com os dados disponíveis?\n",
    "\n",
    "O conjunto de dados que temos atualmente é apenas para três tipos de flores *Iris*. O modelo construído a partir desse conjunto de dados funcionará apenas para aquelas flores *Iris*, portanto, precisaremos de mais dados para criar um classificador de flores geral.\n",
    "\n",
    "<hr />\n",
    "\n",
    "Observe que passamos um bom tempo trabalhando no problema sem escrever uma linha de código ou mesmo olhar os dados.\n",
    "\n",
    "**Pensar e documentar o problema em que estamos trabalhando é uma etapa importante para realizar uma análise de dados eficaz que geralmente passa despercebida.** Não pule.\n"
   ]
  },
  {
   "cell_type": "markdown",
   "metadata": {},
   "source": [
    "\n",
    "## Etapa 2: Verificar os dados\n",
    "\n",
    "A próxima etapa é examinar os dados com os quais estamos trabalhando. Mesmo conjuntos de dados selecionados pelo governo podem conter erros e é vital que identifiquemos esses erros antes de investir muito tempo em nossa análise.\n",
    "\n",
    "Geralmente, procuramos responder às seguintes perguntas:\n",
    "\n",
    "Há algo de errado com os dados?\n",
    "Há alguma peculiaridade com os dados?\n",
    "Eu preciso corrigir ou remover algum dos dados?\n",
    "Vamos começar lendo os dados em um DataFrame do pandas.\n"
   ]
  },
  {
   "cell_type": "code",
   "execution_count": 1,
   "metadata": {},
   "outputs": [
    {
     "data": {
      "text/html": [
       "<div>\n",
       "<style scoped>\n",
       "    .dataframe tbody tr th:only-of-type {\n",
       "        vertical-align: middle;\n",
       "    }\n",
       "\n",
       "    .dataframe tbody tr th {\n",
       "        vertical-align: top;\n",
       "    }\n",
       "\n",
       "    .dataframe thead th {\n",
       "        text-align: right;\n",
       "    }\n",
       "</style>\n",
       "<table border=\"1\" class=\"dataframe\">\n",
       "  <thead>\n",
       "    <tr style=\"text-align: right;\">\n",
       "      <th></th>\n",
       "      <th>sepal_length_cm</th>\n",
       "      <th>sepal_width_cm</th>\n",
       "      <th>petal_length_cm</th>\n",
       "      <th>petal_width_cm</th>\n",
       "      <th>class</th>\n",
       "    </tr>\n",
       "  </thead>\n",
       "  <tbody>\n",
       "    <tr>\n",
       "      <th>0</th>\n",
       "      <td>5.1</td>\n",
       "      <td>3.5</td>\n",
       "      <td>1.4</td>\n",
       "      <td>0.2</td>\n",
       "      <td>Iris-setosa</td>\n",
       "    </tr>\n",
       "    <tr>\n",
       "      <th>1</th>\n",
       "      <td>4.9</td>\n",
       "      <td>3.0</td>\n",
       "      <td>1.4</td>\n",
       "      <td>0.2</td>\n",
       "      <td>Iris-setosa</td>\n",
       "    </tr>\n",
       "    <tr>\n",
       "      <th>2</th>\n",
       "      <td>4.7</td>\n",
       "      <td>3.2</td>\n",
       "      <td>1.3</td>\n",
       "      <td>0.2</td>\n",
       "      <td>Iris-setosa</td>\n",
       "    </tr>\n",
       "    <tr>\n",
       "      <th>3</th>\n",
       "      <td>4.6</td>\n",
       "      <td>3.1</td>\n",
       "      <td>1.5</td>\n",
       "      <td>0.2</td>\n",
       "      <td>Iris-setosa</td>\n",
       "    </tr>\n",
       "    <tr>\n",
       "      <th>4</th>\n",
       "      <td>5.0</td>\n",
       "      <td>3.6</td>\n",
       "      <td>1.4</td>\n",
       "      <td>0.2</td>\n",
       "      <td>Iris-setosa</td>\n",
       "    </tr>\n",
       "  </tbody>\n",
       "</table>\n",
       "</div>"
      ],
      "text/plain": [
       "   sepal_length_cm  sepal_width_cm  petal_length_cm  petal_width_cm  \\\n",
       "0              5.1             3.5              1.4             0.2   \n",
       "1              4.9             3.0              1.4             0.2   \n",
       "2              4.7             3.2              1.3             0.2   \n",
       "3              4.6             3.1              1.5             0.2   \n",
       "4              5.0             3.6              1.4             0.2   \n",
       "\n",
       "         class  \n",
       "0  Iris-setosa  \n",
       "1  Iris-setosa  \n",
       "2  Iris-setosa  \n",
       "3  Iris-setosa  \n",
       "4  Iris-setosa  "
      ]
     },
     "execution_count": 1,
     "metadata": {},
     "output_type": "execute_result"
    }
   ],
   "source": [
    "import pandas as pd\n",
    "\n",
    "iris_data = pd.read_csv('iris-data.csv')\n",
    "iris_data.head()"
   ]
  },
  {
   "cell_type": "markdown",
   "metadata": {},
   "source": [
    "Estamos com sorte! Os dados parecem estar em um formato utilizável.\n",
    "\n",
    "A primeira linha do arquivo de dados define os cabeçalhos das colunas, e os cabeçalhos são descritivos o suficiente para que possamos entender o que cada coluna representa. Os cabeçalhos fornecem até mesmo as unidades em que as medições foram registradas, caso precisássemos saber em um ponto posterior do projeto.\n",
    "\n",
    "Cada linha após a primeira linha representa uma entrada para uma flor: quatro medidas e uma classe, que nos diz a espécie da flor.\n",
    "\n",
    "**Uma das primeiras coisas que devemos procurar são os dados ausentes.** Felizmente, os pesquisadores de campo já nos disseram que colocaram um 'NA' na planilha quando estavam faltando uma medição.\n",
    "\n",
    "Podemos dizer aos pandas para identificarem automaticamente os valores ausentes se conhecerem nosso marcador de valor ausente."
   ]
  },
  {
   "cell_type": "code",
   "execution_count": 3,
   "metadata": {},
   "outputs": [],
   "source": [
    "iris_data = pd.read_csv('iris-data.csv', na_values=['NA'])"
   ]
  },
  {
   "cell_type": "markdown",
   "metadata": {},
   "source": [
    "Pronto! Agora o pandas sabe como tratar as linhas com 'NA' como valores ausentes."
   ]
  },
  {
   "cell_type": "markdown",
   "metadata": {},
   "source": [
    "Em seguida, é sempre uma boa ideia observar a distribuição de nossos dados - especialmente os outliers.\n",
    "\n",
    "Vamos começar imprimindo algumas estatísticas resumidas sobre o conjunto de dados."
   ]
  },
  {
   "cell_type": "code",
   "execution_count": 4,
   "metadata": {},
   "outputs": [
    {
     "data": {
      "text/html": [
       "<div>\n",
       "<style scoped>\n",
       "    .dataframe tbody tr th:only-of-type {\n",
       "        vertical-align: middle;\n",
       "    }\n",
       "\n",
       "    .dataframe tbody tr th {\n",
       "        vertical-align: top;\n",
       "    }\n",
       "\n",
       "    .dataframe thead th {\n",
       "        text-align: right;\n",
       "    }\n",
       "</style>\n",
       "<table border=\"1\" class=\"dataframe\">\n",
       "  <thead>\n",
       "    <tr style=\"text-align: right;\">\n",
       "      <th></th>\n",
       "      <th>sepal_length_cm</th>\n",
       "      <th>sepal_width_cm</th>\n",
       "      <th>petal_length_cm</th>\n",
       "      <th>petal_width_cm</th>\n",
       "    </tr>\n",
       "  </thead>\n",
       "  <tbody>\n",
       "    <tr>\n",
       "      <th>count</th>\n",
       "      <td>150.000000</td>\n",
       "      <td>150.000000</td>\n",
       "      <td>150.000000</td>\n",
       "      <td>145.000000</td>\n",
       "    </tr>\n",
       "    <tr>\n",
       "      <th>mean</th>\n",
       "      <td>5.644627</td>\n",
       "      <td>3.054667</td>\n",
       "      <td>3.758667</td>\n",
       "      <td>1.236552</td>\n",
       "    </tr>\n",
       "    <tr>\n",
       "      <th>std</th>\n",
       "      <td>1.312781</td>\n",
       "      <td>0.433123</td>\n",
       "      <td>1.764420</td>\n",
       "      <td>0.755058</td>\n",
       "    </tr>\n",
       "    <tr>\n",
       "      <th>min</th>\n",
       "      <td>0.055000</td>\n",
       "      <td>2.000000</td>\n",
       "      <td>1.000000</td>\n",
       "      <td>0.100000</td>\n",
       "    </tr>\n",
       "    <tr>\n",
       "      <th>25%</th>\n",
       "      <td>5.100000</td>\n",
       "      <td>2.800000</td>\n",
       "      <td>1.600000</td>\n",
       "      <td>0.400000</td>\n",
       "    </tr>\n",
       "    <tr>\n",
       "      <th>50%</th>\n",
       "      <td>5.700000</td>\n",
       "      <td>3.000000</td>\n",
       "      <td>4.350000</td>\n",
       "      <td>1.300000</td>\n",
       "    </tr>\n",
       "    <tr>\n",
       "      <th>75%</th>\n",
       "      <td>6.400000</td>\n",
       "      <td>3.300000</td>\n",
       "      <td>5.100000</td>\n",
       "      <td>1.800000</td>\n",
       "    </tr>\n",
       "    <tr>\n",
       "      <th>max</th>\n",
       "      <td>7.900000</td>\n",
       "      <td>4.400000</td>\n",
       "      <td>6.900000</td>\n",
       "      <td>2.500000</td>\n",
       "    </tr>\n",
       "  </tbody>\n",
       "</table>\n",
       "</div>"
      ],
      "text/plain": [
       "       sepal_length_cm  sepal_width_cm  petal_length_cm  petal_width_cm\n",
       "count       150.000000      150.000000       150.000000      145.000000\n",
       "mean          5.644627        3.054667         3.758667        1.236552\n",
       "std           1.312781        0.433123         1.764420        0.755058\n",
       "min           0.055000        2.000000         1.000000        0.100000\n",
       "25%           5.100000        2.800000         1.600000        0.400000\n",
       "50%           5.700000        3.000000         4.350000        1.300000\n",
       "75%           6.400000        3.300000         5.100000        1.800000\n",
       "max           7.900000        4.400000         6.900000        2.500000"
      ]
     },
     "execution_count": 4,
     "metadata": {},
     "output_type": "execute_result"
    }
   ],
   "source": [
    "iris_data.describe()"
   ]
  },
  {
   "cell_type": "markdown",
   "metadata": {},
   "source": [
    "Podemos ver vários valores úteis nesta tabela. Por exemplo, vemos que cinco entradas `petal_width_cm` estão faltando.\n",
    "\n",
    "Se você me perguntar, no entanto, tabelas como essa raramente são úteis, a menos que saibamos que nossos dados devem estar em um determinado intervalo. Geralmente é melhor visualizar os dados de alguma forma. A visualização faz com que os valores discrepantes e os erros se destaquem imediatamente, ao passo que podem passar despercebidos em uma grande tabela de números.\n",
    "\n",
    "Já que sabemos que vamos traçar nesta seção, vamos configurar o notebook para que possamos traçar dentro dele."
   ]
  },
  {
   "cell_type": "code",
   "execution_count": 6,
   "metadata": {},
   "outputs": [],
   "source": [
    "# Esta linha diz ao notebook para mostrar plotagens dentro do notebook\n",
    "%matplotlib inline\n",
    "\n",
    "import matplotlib.pyplot as plt\n",
    "import seaborn as sb"
   ]
  },
  {
   "cell_type": "markdown",
   "metadata": {},
   "source": [
    "A seguir, vamos criar uma **matriz de gráfico de dispersão**. As matrizes de gráfico de dispersão representam a distribuição de cada coluna ao longo da diagonal e, em seguida, representam uma matriz de gráfico de dispersão para a combinação de cada variável. Eles são uma ferramenta eficiente para procurar erros em nossos dados.\n",
    "\n",
    "Podemos até ter o pacote de plotagem com a cor de cada entrada de sua classe para procurar tendências dentro das classes."
   ]
  },
  {
   "cell_type": "code",
   "execution_count": 17,
   "metadata": {},
   "outputs": [
    {
     "data": {
      "text/plain": [
       "''"
      ]
     },
     "execution_count": 17,
     "metadata": {},
     "output_type": "execute_result"
    },
    {
     "data": {
      "image/png": "[encoded data removed]",
      "text/plain": [
       "<Figure size 823.25x720 with 20 Axes>"
      ]
     },
     "metadata": {
      "needs_background": "light"
     },
     "output_type": "display_data"
    }
   ],
   "source": [
    "# Temos que descartar temporariamente as linhas com valores 'NA'\n",
    "# porque a função de plotagem Seaborn não sabe\n",
    "# o que fazer com eles\n",
    "\n",
    "sb.pairplot(iris_data.dropna(), hue='class')\n",
    ";"
   ]
  },
  {
   "cell_type": "markdown",
   "metadata": {},
   "source": [
    "Na matriz do gráfico de dispersão, já podemos ver alguns problemas com o conjunto de dados:\n",
    "\n",
    "1. Existem cinco classes quando deveria haver apenas três, o que significa que houve alguns erros de codificação.\n",
    "\n",
    "2. Existem alguns outliers claros nas medições que podem estar errados: uma entrada `sepal_width_cm` para` Iris-setosa` está bem fora de sua faixa normal, e várias entradas `sepal_length_cm` para` Iris-versicolor` são quase zero para alguma razão.\n",
    "\n",
    "3. Tivemos que descartar essas linhas com valores ausentes.\n",
    "\n",
    "Em todos esses casos, precisamos descobrir o que fazer com os dados errados. O que nos leva à próxima etapa ..."
   ]
  },
  {
   "cell_type": "markdown",
   "metadata": {},
   "source": [
    "## Etapa 3: Organizando os dados\n",
    "\n",
    "Agora que identificamos vários erros no conjunto de dados, precisamos corrigi-los antes de prosseguirmos com a análise.\n",
    "\n",
    "Vamos examinar os problemas um por um.\n",
    "\n",
    "> Existem cinco classes quando deveria haver apenas três, o que significa que houve alguns erros de codificação.\n",
    "\n",
    "Depois de conversar com os pesquisadores de campo, parece que um deles se esqueceu de adicionar `Iris-` antes de suas entradas `Iris-versicolor`. A outra classe estranha, `Iris-setossa`, era simplesmente um erro de digitação que eles se esqueceram de corrigir.\n",
    "\n",
    "Vamos usar o DataFrame para corrigir esses erros."
   ]
  },
  {
   "cell_type": "code",
   "execution_count": 9,
   "metadata": {},
   "outputs": [
    {
     "data": {
      "text/plain": [
       "array(['Iris-setosa', 'Iris-versicolor', 'Iris-virginica'], dtype=object)"
      ]
     },
     "execution_count": 9,
     "metadata": {},
     "output_type": "execute_result"
    }
   ],
   "source": [
    "iris_data.loc[iris_data['class'] == 'versicolor', 'class'] = 'Iris-versicolor'\n",
    "iris_data.loc[iris_data['class'] == 'Iris-setossa', 'class'] = 'Iris-setosa'\n",
    "\n",
    "iris_data['class'].unique()"
   ]
  },
  {
   "cell_type": "markdown",
   "metadata": {},
   "source": [
    "Muito melhor! Agora, temos apenas três tipos de classes. Imagine como seria embaraçoso criar um modelo que usasse as classes erradas.\n",
    "\n",
    "> Existem alguns outliers claros nas medições que podem estar errados: uma entrada `sepal_width_cm` para` Iris-setosa` está bem fora de sua faixa normal, e várias entradas `sepal_length_cm` para` Iris-versicolor` são quase zero para alguns razão.\n",
    "\n",
    "Consertar valores discrepantes pode ser um negócio complicado. Raramente fica claro se o outlier foi causado por erro de medição, registro de dados em unidades inadequadas ou se o outlier é uma anomalia real. Por esse motivo, devemos ser criteriosos ao trabalhar com outliers: se decidirmos excluir quaisquer dados, precisamos ter certeza de documentar quais dados excluímos e fornecer um raciocínio sólido para excluir esses dados. (ou seja, \"Esses dados não se encaixam na minha hipótese\" não suportará a revisão por pares.)\n",
    "\n",
    "No caso de uma entrada anômala para `Iris-setosa`, digamos que nossos pesquisadores de campo saibam que é impossível para` Iris-setosa` ter sépalas com largura inferior a 2,5 cm. Obviamente, essa entrada foi feita por engano, e é melhor apenas descartá-la do que gastar horas descobrindo o que aconteceu."
   ]
  },
  {
   "cell_type": "code",
   "execution_count": 10,
   "metadata": {},
   "outputs": [
    {
     "data": {
      "text/plain": [
       "''"
      ]
     },
     "execution_count": 10,
     "metadata": {},
     "output_type": "execute_result"
    },
    {
     "data": {
      "image/png": "[encoded data removed]",
      "text/plain": [
       "<Figure size 432x288 with 1 Axes>"
      ]
     },
     "metadata": {
      "needs_background": "light"
     },
     "output_type": "display_data"
    }
   ],
   "source": [
    "# Esta linha elimina quaisquer linhas 'Iris-setosa' com uma sepal_width inferior a 2,5 cm\n",
    "\n",
    "iris_data = iris_data.loc[(iris_data['class'] != 'Iris-setosa') | (iris_data['sepal_width_cm'] >= 2.5)]\n",
    "iris_data.loc[iris_data['class'] == 'Iris-setosa', 'sepal_width_cm'].hist()\n",
    ";"
   ]
  },
  {
   "cell_type": "markdown",
   "metadata": {},
   "source": [
    "Excelente! Agora, todas as nossas linhas `Iris-setosa` têm uma largura sépala maior que 2,5.\n",
    "\n",
    "O próximo problema de dados a ser resolvido são os vários comprimentos de sépalas quase zero para as linhas `Iris-versicolor`. Vamos dar uma olhada nessas linhas."
   ]
  },
  {
   "cell_type": "code",
   "execution_count": 11,
   "metadata": {},
   "outputs": [
    {
     "data": {
      "text/html": [
       "<div>\n",
       "<style scoped>\n",
       "    .dataframe tbody tr th:only-of-type {\n",
       "        vertical-align: middle;\n",
       "    }\n",
       "\n",
       "    .dataframe tbody tr th {\n",
       "        vertical-align: top;\n",
       "    }\n",
       "\n",
       "    .dataframe thead th {\n",
       "        text-align: right;\n",
       "    }\n",
       "</style>\n",
       "<table border=\"1\" class=\"dataframe\">\n",
       "  <thead>\n",
       "    <tr style=\"text-align: right;\">\n",
       "      <th></th>\n",
       "      <th>sepal_length_cm</th>\n",
       "      <th>sepal_width_cm</th>\n",
       "      <th>petal_length_cm</th>\n",
       "      <th>petal_width_cm</th>\n",
       "      <th>class</th>\n",
       "    </tr>\n",
       "  </thead>\n",
       "  <tbody>\n",
       "    <tr>\n",
       "      <th>77</th>\n",
       "      <td>0.067</td>\n",
       "      <td>3.0</td>\n",
       "      <td>5.0</td>\n",
       "      <td>1.7</td>\n",
       "      <td>Iris-versicolor</td>\n",
       "    </tr>\n",
       "    <tr>\n",
       "      <th>78</th>\n",
       "      <td>0.060</td>\n",
       "      <td>2.9</td>\n",
       "      <td>4.5</td>\n",
       "      <td>1.5</td>\n",
       "      <td>Iris-versicolor</td>\n",
       "    </tr>\n",
       "    <tr>\n",
       "      <th>79</th>\n",
       "      <td>0.057</td>\n",
       "      <td>2.6</td>\n",
       "      <td>3.5</td>\n",
       "      <td>1.0</td>\n",
       "      <td>Iris-versicolor</td>\n",
       "    </tr>\n",
       "    <tr>\n",
       "      <th>80</th>\n",
       "      <td>0.055</td>\n",
       "      <td>2.4</td>\n",
       "      <td>3.8</td>\n",
       "      <td>1.1</td>\n",
       "      <td>Iris-versicolor</td>\n",
       "    </tr>\n",
       "    <tr>\n",
       "      <th>81</th>\n",
       "      <td>0.055</td>\n",
       "      <td>2.4</td>\n",
       "      <td>3.7</td>\n",
       "      <td>1.0</td>\n",
       "      <td>Iris-versicolor</td>\n",
       "    </tr>\n",
       "  </tbody>\n",
       "</table>\n",
       "</div>"
      ],
      "text/plain": [
       "    sepal_length_cm  sepal_width_cm  petal_length_cm  petal_width_cm  \\\n",
       "77            0.067             3.0              5.0             1.7   \n",
       "78            0.060             2.9              4.5             1.5   \n",
       "79            0.057             2.6              3.5             1.0   \n",
       "80            0.055             2.4              3.8             1.1   \n",
       "81            0.055             2.4              3.7             1.0   \n",
       "\n",
       "              class  \n",
       "77  Iris-versicolor  \n",
       "78  Iris-versicolor  \n",
       "79  Iris-versicolor  \n",
       "80  Iris-versicolor  \n",
       "81  Iris-versicolor  "
      ]
     },
     "execution_count": 11,
     "metadata": {},
     "output_type": "execute_result"
    }
   ],
   "source": [
    "iris_data.loc[(iris_data['class'] == 'Iris-versicolor') &\n",
    "              (iris_data['sepal_length_cm'] < 1.0)]"
   ]
  },
  {
   "cell_type": "markdown",
   "metadata": {},
   "source": [
    "Que tal isso? Todas essas entradas de `sepal_length_cm` quase zero parecem estar erradas em duas ordens de magnitude, como se tivessem sido registradas em metros em vez de centímetros.\n",
    "\n",
    "Após uma breve correspondência com os pesquisadores de campo, descobrimos que um deles se esqueceu de converter essas medidas para centímetros. Vamos fazer isso por eles."
   ]
  },
  {
   "cell_type": "code",
   "execution_count": 12,
   "metadata": {},
   "outputs": [
    {
     "data": {
      "text/plain": [
       "''"
      ]
     },
     "execution_count": 12,
     "metadata": {},
     "output_type": "execute_result"
    },
    {
     "data": {
      "image/png": "[encoded data removed]",
      "text/plain": [
       "<Figure size 432x288 with 1 Axes>"
      ]
     },
     "metadata": {
      "needs_background": "light"
     },
     "output_type": "display_data"
    }
   ],
   "source": [
    "iris_data.loc[(iris_data['class'] == 'Iris-versicolor') &\n",
    "              (iris_data['sepal_length_cm'] < 1.0),\n",
    "              'sepal_length_cm'] *= 100.0\n",
    "\n",
    "iris_data.loc[iris_data['class'] == 'Iris-versicolor', 'sepal_length_cm'].hist()\n",
    ";"
   ]
  },
  {
   "cell_type": "markdown",
   "metadata": {},
   "source": [
    "Ufa! Ainda bem que corrigimos esses outliers. Eles poderiam realmente ter jogado nossa análise fora.\n",
    "\n",
    "> Tivemos que descartar essas linhas com valores ausentes.\n",
    "\n",
    "Vamos dar uma olhada nas linhas com valores ausentes:"
   ]
  },
  {
   "cell_type": "code",
   "execution_count": 13,
   "metadata": {},
   "outputs": [
    {
     "data": {
      "text/html": [
       "<div>\n",
       "<style scoped>\n",
       "    .dataframe tbody tr th:only-of-type {\n",
       "        vertical-align: middle;\n",
       "    }\n",
       "\n",
       "    .dataframe tbody tr th {\n",
       "        vertical-align: top;\n",
       "    }\n",
       "\n",
       "    .dataframe thead th {\n",
       "        text-align: right;\n",
       "    }\n",
       "</style>\n",
       "<table border=\"1\" class=\"dataframe\">\n",
       "  <thead>\n",
       "    <tr style=\"text-align: right;\">\n",
       "      <th></th>\n",
       "      <th>sepal_length_cm</th>\n",
       "      <th>sepal_width_cm</th>\n",
       "      <th>petal_length_cm</th>\n",
       "      <th>petal_width_cm</th>\n",
       "      <th>class</th>\n",
       "    </tr>\n",
       "  </thead>\n",
       "  <tbody>\n",
       "    <tr>\n",
       "      <th>7</th>\n",
       "      <td>5.0</td>\n",
       "      <td>3.4</td>\n",
       "      <td>1.5</td>\n",
       "      <td>NaN</td>\n",
       "      <td>Iris-setosa</td>\n",
       "    </tr>\n",
       "    <tr>\n",
       "      <th>8</th>\n",
       "      <td>4.4</td>\n",
       "      <td>2.9</td>\n",
       "      <td>1.4</td>\n",
       "      <td>NaN</td>\n",
       "      <td>Iris-setosa</td>\n",
       "    </tr>\n",
       "    <tr>\n",
       "      <th>9</th>\n",
       "      <td>4.9</td>\n",
       "      <td>3.1</td>\n",
       "      <td>1.5</td>\n",
       "      <td>NaN</td>\n",
       "      <td>Iris-setosa</td>\n",
       "    </tr>\n",
       "    <tr>\n",
       "      <th>10</th>\n",
       "      <td>5.4</td>\n",
       "      <td>3.7</td>\n",
       "      <td>1.5</td>\n",
       "      <td>NaN</td>\n",
       "      <td>Iris-setosa</td>\n",
       "    </tr>\n",
       "    <tr>\n",
       "      <th>11</th>\n",
       "      <td>4.8</td>\n",
       "      <td>3.4</td>\n",
       "      <td>1.6</td>\n",
       "      <td>NaN</td>\n",
       "      <td>Iris-setosa</td>\n",
       "    </tr>\n",
       "  </tbody>\n",
       "</table>\n",
       "</div>"
      ],
      "text/plain": [
       "    sepal_length_cm  sepal_width_cm  petal_length_cm  petal_width_cm  \\\n",
       "7               5.0             3.4              1.5             NaN   \n",
       "8               4.4             2.9              1.4             NaN   \n",
       "9               4.9             3.1              1.5             NaN   \n",
       "10              5.4             3.7              1.5             NaN   \n",
       "11              4.8             3.4              1.6             NaN   \n",
       "\n",
       "          class  \n",
       "7   Iris-setosa  \n",
       "8   Iris-setosa  \n",
       "9   Iris-setosa  \n",
       "10  Iris-setosa  \n",
       "11  Iris-setosa  "
      ]
     },
     "execution_count": 13,
     "metadata": {},
     "output_type": "execute_result"
    }
   ],
   "source": [
    "iris_data.loc[(iris_data['sepal_length_cm'].isnull()) |\n",
    "              (iris_data['sepal_width_cm'].isnull()) |\n",
    "              (iris_data['petal_length_cm'].isnull()) |\n",
    "              (iris_data['petal_width_cm'].isnull())]"
   ]
  },
  {
   "cell_type": "markdown",
   "metadata": {},
   "source": [
    "Não é ideal que tenhamos que descartar essas linhas, especialmente considerando que são todas entradas `Iris-setosa`. Uma vez que parece que os dados ausentes são sistemáticos - todos os valores ausentes estão na mesma coluna para o mesmo tipo * Iris * - esse erro pode afetar nossa análise.\n",
    "\n",
    "Uma maneira de lidar com dados perdidos é **imputação média**: Se sabemos que os valores de uma medição caem em um determinado intervalo, podemos preencher os valores vazios com a média dessa medição.\n",
    "\n",
    "Vamos ver se podemos fazer isso aqui."
   ]
  },
  {
   "cell_type": "code",
   "execution_count": 14,
   "metadata": {},
   "outputs": [
    {
     "data": {
      "text/plain": [
       "''"
      ]
     },
     "execution_count": 14,
     "metadata": {},
     "output_type": "execute_result"
    },
    {
     "data": {
      "image/png": "[encoded data removed]",
      "text/plain": [
       "<Figure size 432x288 with 1 Axes>"
      ]
     },
     "metadata": {
      "needs_background": "light"
     },
     "output_type": "display_data"
    }
   ],
   "source": [
    "iris_data.loc[iris_data['class'] == 'Iris-setosa', 'petal_width_cm'].hist()\n",
    ";"
   ]
  },
  {
   "cell_type": "markdown",
   "metadata": {},
   "source": [
    "A maioria das larguras das pétalas para `Iris-setosa` está dentro da faixa de 0,2-0,3, então vamos preencher essas entradas com a largura média medida da pétala."
   ]
  },
  {
   "cell_type": "code",
   "execution_count": 15,
   "metadata": {},
   "outputs": [
    {
     "data": {
      "text/html": [
       "<div>\n",
       "<style scoped>\n",
       "    .dataframe tbody tr th:only-of-type {\n",
       "        vertical-align: middle;\n",
       "    }\n",
       "\n",
       "    .dataframe tbody tr th {\n",
       "        vertical-align: top;\n",
       "    }\n",
       "\n",
       "    .dataframe thead th {\n",
       "        text-align: right;\n",
       "    }\n",
       "</style>\n",
       "<table border=\"1\" class=\"dataframe\">\n",
       "  <thead>\n",
       "    <tr style=\"text-align: right;\">\n",
       "      <th></th>\n",
       "      <th>sepal_length_cm</th>\n",
       "      <th>sepal_width_cm</th>\n",
       "      <th>petal_length_cm</th>\n",
       "      <th>petal_width_cm</th>\n",
       "      <th>class</th>\n",
       "    </tr>\n",
       "  </thead>\n",
       "  <tbody>\n",
       "    <tr>\n",
       "      <th>7</th>\n",
       "      <td>5.0</td>\n",
       "      <td>3.4</td>\n",
       "      <td>1.5</td>\n",
       "      <td>0.25</td>\n",
       "      <td>Iris-setosa</td>\n",
       "    </tr>\n",
       "    <tr>\n",
       "      <th>8</th>\n",
       "      <td>4.4</td>\n",
       "      <td>2.9</td>\n",
       "      <td>1.4</td>\n",
       "      <td>0.25</td>\n",
       "      <td>Iris-setosa</td>\n",
       "    </tr>\n",
       "    <tr>\n",
       "      <th>9</th>\n",
       "      <td>4.9</td>\n",
       "      <td>3.1</td>\n",
       "      <td>1.5</td>\n",
       "      <td>0.25</td>\n",
       "      <td>Iris-setosa</td>\n",
       "    </tr>\n",
       "    <tr>\n",
       "      <th>10</th>\n",
       "      <td>5.4</td>\n",
       "      <td>3.7</td>\n",
       "      <td>1.5</td>\n",
       "      <td>0.25</td>\n",
       "      <td>Iris-setosa</td>\n",
       "    </tr>\n",
       "    <tr>\n",
       "      <th>11</th>\n",
       "      <td>4.8</td>\n",
       "      <td>3.4</td>\n",
       "      <td>1.6</td>\n",
       "      <td>0.25</td>\n",
       "      <td>Iris-setosa</td>\n",
       "    </tr>\n",
       "  </tbody>\n",
       "</table>\n",
       "</div>"
      ],
      "text/plain": [
       "    sepal_length_cm  sepal_width_cm  petal_length_cm  petal_width_cm  \\\n",
       "7               5.0             3.4              1.5            0.25   \n",
       "8               4.4             2.9              1.4            0.25   \n",
       "9               4.9             3.1              1.5            0.25   \n",
       "10              5.4             3.7              1.5            0.25   \n",
       "11              4.8             3.4              1.6            0.25   \n",
       "\n",
       "          class  \n",
       "7   Iris-setosa  \n",
       "8   Iris-setosa  \n",
       "9   Iris-setosa  \n",
       "10  Iris-setosa  \n",
       "11  Iris-setosa  "
      ]
     },
     "execution_count": 15,
     "metadata": {},
     "output_type": "execute_result"
    }
   ],
   "source": [
    "average_petal_width = iris_data.loc[iris_data['class'] == 'Iris-setosa', 'petal_width_cm'].mean()\n",
    "\n",
    "iris_data.loc[(iris_data['class'] == 'Iris-setosa') &\n",
    "              (iris_data['petal_width_cm'].isnull()),\n",
    "              'petal_width_cm'] = average_petal_width\n",
    "\n",
    "iris_data.loc[(iris_data['class'] == 'Iris-setosa') &\n",
    "              (iris_data['petal_width_cm'] == average_petal_width)]"
   ]
  },
  {
   "cell_type": "code",
   "execution_count": 16,
   "metadata": {},
   "outputs": [
    {
     "data": {
      "text/html": [
       "<div>\n",
       "<style scoped>\n",
       "    .dataframe tbody tr th:only-of-type {\n",
       "        vertical-align: middle;\n",
       "    }\n",
       "\n",
       "    .dataframe tbody tr th {\n",
       "        vertical-align: top;\n",
       "    }\n",
       "\n",
       "    .dataframe thead th {\n",
       "        text-align: right;\n",
       "    }\n",
       "</style>\n",
       "<table border=\"1\" class=\"dataframe\">\n",
       "  <thead>\n",
       "    <tr style=\"text-align: right;\">\n",
       "      <th></th>\n",
       "      <th>sepal_length_cm</th>\n",
       "      <th>sepal_width_cm</th>\n",
       "      <th>petal_length_cm</th>\n",
       "      <th>petal_width_cm</th>\n",
       "      <th>class</th>\n",
       "    </tr>\n",
       "  </thead>\n",
       "  <tbody>\n",
       "  </tbody>\n",
       "</table>\n",
       "</div>"
      ],
      "text/plain": [
       "Empty DataFrame\n",
       "Columns: [sepal_length_cm, sepal_width_cm, petal_length_cm, petal_width_cm, class]\n",
       "Index: []"
      ]
     },
     "execution_count": 16,
     "metadata": {},
     "output_type": "execute_result"
    }
   ],
   "source": [
    "iris_data.loc[(iris_data['sepal_length_cm'].isnull()) |\n",
    "              (iris_data['sepal_width_cm'].isnull()) |\n",
    "              (iris_data['petal_length_cm'].isnull()) |\n",
    "              (iris_data['petal_width_cm'].isnull())]"
   ]
  },
  {
   "cell_type": "markdown",
   "metadata": {},
   "source": [
    "Ótimo! Agora, recuperamos essas linhas e não temos mais dados ausentes em nosso conjunto de dados.\n",
    "\n",
    "**Observação:** se você não se sentir confortável em imputar seus dados, pode descartar todas as linhas com dados ausentes com a chamada `dropna ()`:\n",
    "\n",
    "    iris_data.dropna (inplace = True)\n",
    "\n",
    "Depois de todo esse trabalho duro, não queremos repetir esse processo toda vez que trabalharmos com o conjunto de dados. Vamos salvar o arquivo de dados organizado *como um arquivo separado* e trabalhar diretamente com esse arquivo de dados a partir de agora."
   ]
  },
  {
   "cell_type": "code",
   "execution_count": 19,
   "metadata": {},
   "outputs": [],
   "source": [
    "iris_data.to_csv('iris-data-clean.csv', index=False)\n",
    "\n",
    "iris_data_clean = pd.read_csv('iris-data-clean.csv')"
   ]
  },
  {
   "cell_type": "markdown",
   "metadata": {},
   "source": [
    "Agora, vamos dar uma olhada na matriz do gráfico de dispersão, agora que organizamos os dados."
   ]
  },
  {
   "cell_type": "code",
   "execution_count": 18,
   "metadata": {},
   "outputs": [
    {
     "ename": "NameError",
     "evalue": "name 'iris_data_clean' is not defined",
     "output_type": "error",
     "traceback": [
      "\u001b[1;31m---------------------------------------------------------------------------\u001b[0m",
      "\u001b[1;31mNameError\u001b[0m                                 Traceback (most recent call last)",
      "\u001b[1;32m<ipython-input-18-2900f9033d5f>\u001b[0m in \u001b[0;36m<module>\u001b[1;34m\u001b[0m\n\u001b[1;32m----> 1\u001b[1;33m \u001b[0msb\u001b[0m\u001b[1;33m.\u001b[0m\u001b[0mpairplot\u001b[0m\u001b[1;33m(\u001b[0m\u001b[0miris_data_clean\u001b[0m\u001b[1;33m,\u001b[0m \u001b[0mhue\u001b[0m\u001b[1;33m=\u001b[0m\u001b[1;34m'class'\u001b[0m\u001b[1;33m)\u001b[0m\u001b[1;33m\u001b[0m\u001b[1;33m\u001b[0m\u001b[0m\n\u001b[0m\u001b[0;32m      2\u001b[0m \u001b[1;33m(\u001b[0m\u001b[1;34m\"\"\u001b[0m\u001b[1;33m)\u001b[0m\u001b[1;33m\u001b[0m\u001b[1;33m\u001b[0m\u001b[0m\n",
      "\u001b[1;31mNameError\u001b[0m: name 'iris_data_clean' is not defined"
     ]
    }
   ],
   "source": [
    "sb.pairplot(iris_data_clean, hue='class')\n",
    ";"
   ]
  },
  {
   "cell_type": "markdown",
   "metadata": {},
   "source": [
    "Vários erros neste conjunto de dados foram inseridos propositalmente para demonstrar alguns dos muitos cenários possíveis que você pode enfrentar ao organizar seus dados.\n",
    "\n",
    "As conclusões gerais aqui devem ser:\n",
    "\n",
    "* Certifique-se de que seus dados estão codificados corretamente\n",
    "\n",
    "* Certifique-se de que seus dados estejam dentro da faixa esperada e use o conhecimento do domínio sempre que possível para definir essa faixa esperada\n",
    "\n",
    "* Lide com os dados ausentes de uma forma ou de outra: substitua-os se puder ou elimine-os\n",
    "\n",
    "* Nunca organize seus dados manualmente porque não são facilmente reproduzíveis\n",
    "\n",
    "* Use o código como um registro de como você organizou seus dados\n",
    "\n",
    "* Plote tudo o que puder sobre os dados nesta fase da análise para que possa * visualmente * confirmar se tudo parece correto"
   ]
  },
  {
   "cell_type": "markdown",
   "metadata": {},
   "source": [
    "## Bônus: Testando nossos dados\n",
    "\n",
    "Da mesma forma como usamos testes de unidade para verificar nossas expectativas do código, podemos configurar testes de unidade de maneira semelhante para verificar nossas expectativas sobre um conjunto de dados.\n",
    "\n",
    "Podemos testar rapidamente nossos dados usando declarações `assert`: afirmamos que algo deve ser verdade e, se for, nada acontece e o notebook continua em execução. No entanto, se nossa afirmação estiver errada, o notebook para de funcionar e nos chama a atenção. Por exemplo,\n",
    "\n",
    "```Python\n",
    "afirmar 1 == 2\n",
    "```\n",
    "\n",
    "irá gerar um `AssertionError` e interromper a execução do bloco de notas porque a declaração falhou.\n",
    "\n",
    "Vamos testar algumas coisas que sabemos sobre nosso conjunto de dados agora."
   ]
  },
  {
   "cell_type": "code",
   "execution_count": null,
   "metadata": {},
   "outputs": [],
   "source": [
    "# Sabemos que devemos ter apenas três classes\n",
    "assert len(iris_data_clean['class'].unique()) == 3"
   ]
  },
  {
   "cell_type": "code",
   "execution_count": null,
   "metadata": {},
   "outputs": [],
   "source": [
    "# Sabemos que o comprimento das sépalas para 'Iris-versicolor' nunca deve ser inferior a 2,5 cm\n",
    "assert iris_data_clean.loc[iris_data_clean['class'] == 'Iris-versicolor', 'sepal_length_cm'].min() >= 2.5"
   ]
  },
  {
   "cell_type": "code",
   "execution_count": null,
   "metadata": {},
   "outputs": [],
   "source": [
    "# Sabemos que nosso conjunto de dados não deve ter medições ausentes\n",
    "assert len(iris_data_clean.loc[(iris_data_clean['sepal_length_cm'].isnull()) |\n",
    "                               (iris_data_clean['sepal_width_cm'].isnull()) |\n",
    "                               (iris_data_clean['petal_length_cm'].isnull()) |\n",
    "                               (iris_data_clean['petal_width_cm'].isnull())]) == 0"
   ]
  },
  {
   "cell_type": "markdown",
   "metadata": {},
   "source": [
    "E assim por diante. Se alguma dessas expectativas for violada, nossa análise será interrompida imediatamente e teremos que retornar ao estágio de limpeza."
   ]
  },
  {
   "cell_type": "markdown",
   "metadata": {},
   "source": [
    "## Etapa 4: Análise exploratória\n",
    "\n",
    "Agora, depois de gastar muito tempo organizando nossos dados, podemos começar a analisá-los!\n",
    "\n",
    "A análise exploratória é a etapa em que começamos a nos aprofundar no conjunto de dados, além dos outliers e erros. Estaremos procurando responder a perguntas como:\n",
    "\n",
    "* Como meus dados são distribuídos?\n",
    "\n",
    "* Existem correlações em meus dados?\n",
    "\n",
    "* Existem fatores de confusão que explicam essas correlações?\n",
    "\n",
    "Este é o estágio em que plotamos todos os dados de tantas maneiras quanto possível. Crie muitos gráficos, mas não se preocupe em torná-los bonitos - esses gráficos são para uso interno.\n",
    "\n",
    "Voltemos à matriz do gráfico de dispersão que usamos anteriormente."
   ]
  },
  {
   "cell_type": "code",
   "execution_count": null,
   "metadata": {},
   "outputs": [],
   "source": [
    "sb.pairplot(iris_data_clean)\n",
    ";"
   ]
  },
  {
   "cell_type": "markdown",
   "metadata": {},
   "source": [
    "Nossos dados são normalmente distribuídos em sua maior parte, o que é uma ótima notícia se planejamos usar qualquer método de modelagem que presuma que os dados são normalmente distribuídos.\n",
    "\n",
    "Há algo estranho acontecendo com as medidas das pétalas. Talvez tenha algo a ver com os diferentes tipos de `Iris`. Vamos codificar os dados com cores pela classe novamente para ver se isso esclarece as coisas."
   ]
  },
  {
   "cell_type": "code",
   "execution_count": null,
   "metadata": {},
   "outputs": [],
   "source": [
    "sb.pairplot(iris_data_clean, hue='class')\n",
    ";"
   ]
  },
  {
   "cell_type": "markdown",
   "metadata": {},
   "source": [
    "\n",
    "Com certeza, a estranha distribuição das medidas das pétalas existe por causa das diferentes espécies. Na verdade, esta é uma ótima notícia para nossa tarefa de classificação, pois significa que as medidas das pétalas tornarão mais fácil distinguir entre `Iris-setosa` e os outros tipos de` Iris`.\n",
    "\n",
    "Distinguir `Iris-versicolor` e` Iris-virginica` será mais difícil, dado o quanto suas medidas se sobrepõem.\n",
    "\n",
    "Existem também correlações entre o comprimento e a largura da pétala, bem como o comprimento e a largura da sépala. Os biólogos de campo garantem que isso é esperado: pétalas de flores mais longas também tendem a ser mais largas, e o mesmo se aplica às sépalas.\n",
    "\n",
    "Também podemos fazer **plotagens de violino** dos dados para comparar as distribuições de medição das classes. Os gráficos de violino contêm as mesmas informações que os [gráficos de caixa] (https://en.wikipedia.org/wiki/Box_plot), mas também dimensionam a caixa de acordo com a densidade dos dados."
   ]
  },
  {
   "cell_type": "code",
   "execution_count": null,
   "metadata": {},
   "outputs": [],
   "source": [
    "plt.figure(figsize=(10, 10))\n",
    "\n",
    "for column_index, column in enumerate(iris_data_clean.columns):\n",
    "    if column == 'class':\n",
    "        continue\n",
    "    plt.subplot(2, 2, column_index + 1)\n",
    "    sb.violinplot(x='class', y=column, data=iris_data_clean)"
   ]
  },
  {
   "cell_type": "markdown",
   "metadata": {},
   "source": [
    "Chega de flertar com os dados. Vamos começar a modelar."
   ]
  },
  {
   "cell_type": "markdown",
   "metadata": {},
   "source": [
    "## Etapa 5: Classificação\n",
    "\n",
    "Todo esse trabalho e nós *ainda* não modelamos os dados!\n",
    "\n",
    "Por mais cansativo que possa ser, organizar e explorar nossos dados é um componente vital para qualquer análise de dados. Se tivéssemos pulado direto para a etapa de modelagem, teríamos criado um modelo de classificação com defeito.\n",
    "\n",
    "Lembre-se: **Dados ruins levam a modelos ruins.** Sempre verifique seus dados primeiro.\n",
    "\n",
    "<hr />\n",
    "\n",
    "Com a certeza de que nossos dados estão tão limpos quanto podemos torná-los - e munidos de algum conhecimento superficial das distribuições e relações em nosso conjunto de dados - é hora de dar o próximo grande passo em nossa análise: dividir os dados em conjuntos de treinamento e teste .\n",
    "\n",
    "Um **conjunto de treinamento** é um subconjunto aleatório dos dados que usamos para treinar nossos modelos.\n",
    "\n",
    "Um **conjunto de teste** é um subconjunto aleatório dos dados (mutuamente exclusivo do conjunto de treinamento) que usamos para validar nossos modelos em dados imprevistos.\n",
    "\n",
    "Especialmente em conjuntos de dados esparsos como o nosso, é fácil para os modelos **super ajustar** os dados (overfitting): o modelo aprenderá o conjunto de treinamento tão bem que não será capaz de lidar com a maioria dos casos que nunca viu antes. É por isso que é importante construirmos o modelo com o conjunto de treinamento, mas pontuá-lo com o conjunto de teste.\n",
    "\n",
    "Observe que, uma vez que dividimos os dados em um conjunto de treinamento e teste, devemos tratar o conjunto de teste como se ele não existisse mais: não podemos usar nenhuma informação do conjunto de teste para construir nosso modelo, senão estaremos trapaceando.\n",
    "\n",
    "Vamos configurar nossos dados primeiro."
   ]
  },
  {
   "cell_type": "code",
   "execution_count": 20,
   "metadata": {},
   "outputs": [
    {
     "data": {
      "text/plain": [
       "array([[5.1, 3.5, 1.4, 0.2],\n",
       "       [4.9, 3. , 1.4, 0.2],\n",
       "       [4.7, 3.2, 1.3, 0.2],\n",
       "       [4.6, 3.1, 1.5, 0.2],\n",
       "       [5. , 3.6, 1.4, 0.2]])"
      ]
     },
     "execution_count": 20,
     "metadata": {},
     "output_type": "execute_result"
    }
   ],
   "source": [
    "iris_data_clean = pd.read_csv('iris-data-clean.csv')\n",
    "\n",
    "# Estamos usando todas as quatro medições como entradas\n",
    "# Observe que o scikit-learn espera que cada entrada seja uma lista de valores, por exemplo,\n",
    "# [[val1, val2, val3],\n",
    "# [val1, val2, val3],\n",
    "# ...]\n",
    "# de modo que nosso conjunto de dados de entrada seja representado como uma lista de listas\n",
    "\n",
    "# Podemos extrair os dados neste formato de pandas assim:\n",
    "all_inputs = iris_data_clean[['sepal_length_cm', 'sepal_width_cm',\n",
    "                             'petal_length_cm', 'petal_width_cm']].values\n",
    "\n",
    "\n",
    "# Da mesma forma, podemos extrair os rótulos das classes\n",
    "all_labels = iris_data_clean['class'].values\n",
    "\n",
    "\n",
    "# Certifique-se de não confundir a ordem das entradas\n",
    "# all_inputs [5] entradas devem corresponder à classe em all_labels [5]\n",
    "\n",
    "# Esta é a aparência de um subconjunto de nossas entradas:\n",
    "all_inputs[:5]"
   ]
  },
  {
   "cell_type": "markdown",
   "metadata": {},
   "source": [
    "Agora nossos dados estão prontos para serem divididos."
   ]
  },
  {
   "cell_type": "code",
   "execution_count": 21,
   "metadata": {},
   "outputs": [],
   "source": [
    "from sklearn.model_selection import train_test_split\n",
    "\n",
    "(training_inputs,\n",
    " testing_inputs,\n",
    " training_classes,\n",
    " testing_classes) = train_test_split(all_inputs, all_labels, test_size=0.25, random_state=1)"
   ]
  },
  {
   "cell_type": "markdown",
   "metadata": {},
   "source": [
    "Com nossa divisão de dados, podemos começar a ajustar modelos aos nossos dados. O chefe de dados de nossa empresa trata de classificadores de árvore de decisão, então vamos começar com um deles.\n",
    "\n",
    "Os classificadores de árvore de decisão são incrivelmente simples na teoria. Em sua forma mais simples, os classificadores da árvore de decisão fazem uma série de perguntas Sim / Não sobre os dados - cada vez mais perto de descobrir a classe de cada entrada - até que classifiquem o conjunto de dados perfeitamente ou simplesmente não consigam diferenciar um conjunto de entradas.\n",
    "\n",
    "Aqui está um exemplo de classificador de árvore de decisão:\n",
    "\n",
    "<img src = \"iris_dtc.png\" />\n",
    "\n",
    "Observe como o classificador faz perguntas Sim / Não sobre os dados - se um determinado recurso é <= 1,75, por exemplo - para que ele possa diferenciar os registros. Esta é a essência de toda árvore de decisão.\n",
    "\n",
    "A parte boa sobre os classificadores de árvore de decisão é que eles são **invariantes em escala**, ou seja, a escala dos recursos não afeta seu desempenho, ao contrário de muitos modelos de aprendizado de máquina. Em outras palavras, não importa se nossos recursos variam de 0 a 1 ou 0 a 1.000; Os classificadores de árvore de decisão funcionarão com eles da mesma forma.\n",
    "\n",
    "Existem vários [parâmetros] (http://scikit-learn.org/stable/modules/generated/sklearn.tree.DecisionTreeClassifier.html) que podemos ajustar para classificadores de árvore de decisão, mas por agora vamos usar um classificador de árvore de decisão básico ."
   ]
  },
  {
   "cell_type": "code",
   "execution_count": 22,
   "metadata": {},
   "outputs": [
    {
     "data": {
      "text/plain": [
       "0.9736842105263158"
      ]
     },
     "execution_count": 22,
     "metadata": {},
     "output_type": "execute_result"
    }
   ],
   "source": [
    "from sklearn.tree import DecisionTreeClassifier\n",
    "\n",
    "# CCria o classificador\n",
    "decision_tree_classifier = DecisionTreeClassifier()\n",
    "\n",
    "# Treina o classificador no conjunto de treino\n",
    "decision_tree_classifier.fit(training_inputs, training_classes)\n",
    "\n",
    "# Valida o classificador no conjunto de teste usando a precisão da classificação\n",
    "decision_tree_classifier.score(testing_inputs, testing_classes)"
   ]
  },
  {
   "cell_type": "code",
   "execution_count": 23,
   "metadata": {},
   "outputs": [
    {
     "data": {
      "text/plain": [
       "array(['Iris-versicolor'], dtype=object)"
      ]
     },
     "execution_count": 23,
     "metadata": {},
     "output_type": "execute_result"
    }
   ],
   "source": [
    "decision_tree_classifier.predict([[5.7, 3.2, 1.1, 3.6]]) "
   ]
  },
  {
   "cell_type": "code",
   "execution_count": 24,
   "metadata": {},
   "outputs": [],
   "source": [
    "import pickle\n",
    "\n",
    "pkl_filename = \"pickle_model.pkl\"\n",
    "\n",
    "with open(pkl_filename, 'wb') as file:\n",
    "    pickle.dump(decision_tree_classifier, file) "
   ]
  },
  {
   "cell_type": "code",
   "execution_count": null,
   "metadata": {},
   "outputs": [],
   "source": []
  },
  {
   "cell_type": "markdown",
   "metadata": {},
   "source": [
    "Impressionante! Nosso modelo atinge 97% de precisão de classificação sem muito esforço.\n",
    "\n",
    "No entanto, há um problema: dependendo de como nosso conjunto de treinamento e teste foi amostrado, nosso modelo pode atingir de 80% a 100% de precisão:"
   ]
  },
  {
   "cell_type": "code",
   "execution_count": null,
   "metadata": {},
   "outputs": [],
   "source": [
    "model_accuracies = []\n",
    "\n",
    "for repetition in range(1000):\n",
    "    (training_inputs,\n",
    "     testing_inputs,\n",
    "     training_classes,\n",
    "     testing_classes) = train_test_split(all_inputs, all_labels, test_size=0.25)\n",
    "    \n",
    "    decision_tree_classifier = DecisionTreeClassifier()\n",
    "    decision_tree_classifier.fit(training_inputs, training_classes)\n",
    "    classifier_accuracy = decision_tree_classifier.score(testing_inputs, testing_classes)\n",
    "    model_accuracies.append(classifier_accuracy)\n",
    "    \n",
    "plt.hist(model_accuracies)\n",
    ";"
   ]
  },
  {
   "cell_type": "markdown",
   "metadata": {},
   "source": [
    "Obviamente, é um problema cujo desempenho de nosso modelo é bem diferente, dependendo do subconjunto de dados em que é treinado. Esse fenômeno é conhecido como **overfitting**: o modelo está aprendendo a classificar o conjunto de treinamento tão bem que não generaliza e tem um bom desempenho em dados que não tinha visto antes.\n",
    "\n",
    "### Validação cruzada\n",
    "\n",
    "Este problema é o principal motivo pelo qual a maioria dos cientistas de dados realiza ***k*-fold cross-validation** em seus modelos: Divida o conjunto de dados original em *k* subconjuntos, use um dos subconjuntos como o conjunto de teste e o o resto dos subconjuntos são usados como o conjunto de treinamento. Esse processo é então repetido *k* vezes, de forma que cada subconjunto seja usado como o conjunto de teste exatamente uma vez.\n",
    "\n",
    "A validação cruzada de 10 vezes é a escolha mais comum, então vamos usá-la aqui. A realização de uma validação cruzada de 10 vezes em nosso conjunto de dados se parece com isto:\n",
    "\n",
    "(cada quadrado é uma entrada em nosso conjunto de dados)"
   ]
  },
  {
   "cell_type": "code",
   "execution_count": null,
   "metadata": {},
   "outputs": [],
   "source": [
    "import numpy as np\n",
    "from sklearn.model_selection import StratifiedKFold\n",
    "\n",
    "def plot_cv(cv, features, labels):\n",
    "    masks = []\n",
    "    for train, test in cv.split(features, labels):\n",
    "        mask = np.zeros(len(labels), dtype=bool)\n",
    "        mask[test] = 1\n",
    "        masks.append(mask)\n",
    "    \n",
    "    plt.figure(figsize=(15, 15))\n",
    "    plt.imshow(masks, interpolation='none', cmap='gray_r')\n",
    "    plt.ylabel('Fold')\n",
    "    plt.xlabel('Row #')\n",
    "\n",
    "plot_cv(StratifiedKFold(n_splits=10), all_inputs, all_labels)"
   ]
  },
  {
   "cell_type": "markdown",
   "metadata": {},
   "source": [
    "You'll notice that we used **Stratified *k*-fold cross-validation** in the code above. Stratified *k*-fold keeps the class proportions the same across all of the folds, which is vital for maintaining a representative subset of our data set. (e.g., so we don't have 100% `Iris setosa` entries in one of the folds.)\n",
    "\n",
    "We can perform 10-fold cross-validation on our model with the following code:"
   ]
  },
  {
   "cell_type": "code",
   "execution_count": null,
   "metadata": {},
   "outputs": [],
   "source": [
    "from sklearn.model_selection import cross_val_score\n",
    "\n",
    "decision_tree_classifier = DecisionTreeClassifier()\n",
    "\n",
    "# cross_val_score returns a list of the scores, which we can visualize\n",
    "# to get a reasonable estimate of our classifier's performance\n",
    "cv_scores = cross_val_score(decision_tree_classifier, all_inputs, all_labels, cv=10)\n",
    "plt.hist(cv_scores)\n",
    "plt.title('Average score: {}'.format(np.mean(cv_scores)))\n",
    ";"
   ]
  },
  {
   "cell_type": "markdown",
   "metadata": {},
   "source": [
    "\n",
    "Agora temos uma classificação muito mais consistente da precisão da classificação geral do nosso classificador.\n",
    "\n",
    "### Ajuste de parâmetro\n",
    "\n",
    "Cada modelo de aprendizado de máquina vem com uma variedade de parâmetros para ajustar, e esses parâmetros podem ser de vital importância para o desempenho de nosso classificador. Por exemplo, se limitarmos severamente a profundidade de nosso classificador de árvore de decisão:"
   ]
  },
  {
   "cell_type": "code",
   "execution_count": null,
   "metadata": {},
   "outputs": [],
   "source": [
    "decision_tree_classifier = DecisionTreeClassifier(max_depth=1)\n",
    "\n",
    "cv_scores = cross_val_score(decision_tree_classifier, all_inputs, all_labels, cv=10)\n",
    "plt.hist(cv_scores)\n",
    "plt.title('Average score: {}'.format(np.mean(cv_scores)))\n",
    ";"
   ]
  },
  {
   "cell_type": "markdown",
   "metadata": {},
   "source": [
    "a precisão da classificação cai tremendamente.\n",
    "\n",
    "Portanto, precisamos encontrar um método sistemático para descobrir os melhores parâmetros para nosso modelo e conjunto de dados.\n",
    "\n",
    "O método mais comum para ajuste dos parâmetros do modelo é **Pesquisa de grade**. A ideia por trás do Grid Search é simples: explore uma variedade de parâmetros e encontre a combinação de parâmetros de melhor desempenho. Concentre sua pesquisa na melhor faixa de parâmetros e repita esse processo várias vezes até que os melhores parâmetros sejam descobertos.\n",
    "\n",
    "Vamos ajustar nosso classificador de árvore de decisão. Vamos nos ater a apenas dois parâmetros por enquanto, mas é possível explorar simultaneamente dezenas de parâmetros, se quisermos."
   ]
  },
  {
   "cell_type": "code",
   "execution_count": null,
   "metadata": {},
   "outputs": [],
   "source": [
    "from sklearn.model_selection import GridSearchCV\n",
    "\n",
    "decision_tree_classifier = DecisionTreeClassifier()\n",
    "\n",
    "parameter_grid = {'max_depth': [1, 2, 3, 4, 5],\n",
    "                  'max_features': [1, 2, 3, 4]}\n",
    "\n",
    "cross_validation = StratifiedKFold(n_splits=10)\n",
    "\n",
    "grid_search = GridSearchCV(decision_tree_classifier,\n",
    "                           param_grid=parameter_grid,\n",
    "                           cv=cross_validation)\n",
    "\n",
    "grid_search.fit(all_inputs, all_labels)\n",
    "print('Best score: {}'.format(grid_search.best_score_))\n",
    "print('Best parameters: {}'.format(grid_search.best_params_))"
   ]
  },
  {
   "cell_type": "markdown",
   "metadata": {},
   "source": [
    "Agora vamos visualizar a pesquisa da grade para ver como os parâmetros interagem."
   ]
  },
  {
   "cell_type": "code",
   "execution_count": null,
   "metadata": {},
   "outputs": [],
   "source": [
    "grid_visualization = grid_search.cv_results_['mean_test_score']\n",
    "grid_visualization.shape = (5, 4)\n",
    "sb.heatmap(grid_visualization, cmap='Blues', annot=True)\n",
    "plt.xticks(np.arange(4) + 0.5, grid_search.param_grid['max_features'])\n",
    "plt.yticks(np.arange(5) + 0.5, grid_search.param_grid['max_depth'])\n",
    "plt.xlabel('max_features')\n",
    "plt.ylabel('max_depth')\n",
    ";"
   ]
  },
  {
   "cell_type": "markdown",
   "metadata": {},
   "source": [
    "Agora temos uma noção melhor do espaço de parâmetros: sabemos que precisamos de uma `max_depth` de pelo menos 2 para permitir que a árvore de decisão tome mais do que uma decisão única.\n",
    "\n",
    "`max_features` realmente não parece fazer uma grande diferença aqui, contanto que tenhamos 2 deles, o que faz sentido já que nosso conjunto de dados tem apenas 4 recursos e é relativamente fácil de classificar. (Lembre-se de que uma das classes do nosso conjunto de dados era facilmente separável do resto com base em um único recurso.)\n",
    "\n",
    "Vamos seguir em frente e usar uma ampla pesquisa em grade para encontrar as melhores configurações para um punhado de parâmetros."
   ]
  },
  {
   "cell_type": "code",
   "execution_count": null,
   "metadata": {},
   "outputs": [],
   "source": [
    "decision_tree_classifier = DecisionTreeClassifier()\n",
    "\n",
    "parameter_grid = {'criterion': ['gini', 'entropy'],\n",
    "                  'splitter': ['best', 'random'],\n",
    "                  'max_depth': [1, 2, 3, 4, 5],\n",
    "                  'max_features': [1, 2, 3, 4]}\n",
    "\n",
    "cross_validation = StratifiedKFold(n_splits=10)\n",
    "\n",
    "grid_search = GridSearchCV(decision_tree_classifier,\n",
    "                           param_grid=parameter_grid,\n",
    "                           cv=cross_validation)\n",
    "\n",
    "grid_search.fit(all_inputs, all_labels)\n",
    "print('Best score: {}'.format(grid_search.best_score_))\n",
    "print('Best parameters: {}'.format(grid_search.best_params_))"
   ]
  },
  {
   "cell_type": "markdown",
   "metadata": {},
   "source": [
    "Agora podemos pegar o melhor classificador do Grid Search e usá-lo:"
   ]
  },
  {
   "cell_type": "code",
   "execution_count": null,
   "metadata": {},
   "outputs": [],
   "source": [
    "decision_tree_classifier = grid_search.best_estimator_\n",
    "decision_tree_classifier"
   ]
  },
  {
   "cell_type": "markdown",
   "metadata": {},
   "source": [
    "Podemos até visualizar a árvore de decisão com [GraphViz] (http://www.graphviz.org/) para ver como está fazendo as classificações:"
   ]
  },
  {
   "cell_type": "code",
   "execution_count": null,
   "metadata": {},
   "outputs": [],
   "source": [
    "import sklearn.tree as tree\n",
    "from sklearn.externals.six import StringIO\n",
    "\n",
    "with open('iris_dtc.dot', 'w') as out_file:\n",
    "    out_file = tree.export_graphviz(decision_tree_classifier, out_file=out_file)"
   ]
  },
  {
   "cell_type": "markdown",
   "metadata": {},
   "source": [
    "<img src=\"iris_dtc.png\" />"
   ]
  },
  {
   "cell_type": "markdown",
   "metadata": {},
   "source": [
    "(Este classificador pode parecer familiar no início do bloco de notas.)\n",
    "\n",
    "Tudo bem! Finalmente temos nosso classificador de demonstração. Vamos criar alguns visuais de seu desempenho para que tenhamos algo para mostrar ao chefe de dados de nossa empresa."
   ]
  },
  {
   "cell_type": "code",
   "execution_count": null,
   "metadata": {},
   "outputs": [],
   "source": [
    "dt_scores = cross_val_score(decision_tree_classifier, all_inputs, all_labels, cv=10)\n",
    "\n",
    "sb.boxplot(dt_scores)\n",
    "sb.stripplot(dt_scores, jitter=True, color='black')\n",
    ";"
   ]
  },
  {
   "cell_type": "markdown",
   "metadata": {},
   "source": [
    "Hmmm ... isso é um pouco chato por si só. Que tal compararmos outro classificador para ver como eles se saem?\n",
    "\n",
    "Já sabemos de projetos anteriores que os classificadores Random Forest geralmente funcionam melhor do que árvores de decisão individuais. Um problema comum que as árvores de decisão enfrentam é que elas são propensas a overfitting: elas complexificam a ponto de classificar o conjunto de treinamento quase perfeitamente, mas falham ao generalizar para dados que não tenham visto antes.\n",
    "\n",
    "**Classificadores de floresta aleatória** contornam essa limitação criando um monte de árvores de decisão (daí \"floresta\") - cada uma treinada em subconjuntos aleatórios de amostras de treinamento (desenhados com substituição) e recursos (desenhados sem substituição) - e têm o as árvores de decisão trabalham juntas para fazer uma classificação mais precisa.\n",
    "\n",
    "Deixe que isso sirva de lição para nós: **Mesmo no aprendizado de máquina, obtemos melhores resultados quando trabalhamos juntos!**\n",
    "\n",
    "Vamos ver se um classificador Random Forest funciona melhor aqui.\n",
    "\n",
    "A grande parte do scikit-learn é que o processo de treinamento, teste, ajuste de parâmetros, etc. é o mesmo para todos os modelos, portanto, só precisamos conectar o novo classificador."
   ]
  },
  {
   "cell_type": "code",
   "execution_count": null,
   "metadata": {},
   "outputs": [],
   "source": [
    "from sklearn.ensemble import RandomForestClassifier\n",
    "\n",
    "random_forest_classifier = RandomForestClassifier()\n",
    "\n",
    "parameter_grid = {'n_estimators': [10, 25, 50, 100],\n",
    "                  'criterion': ['gini', 'entropy'],\n",
    "                  'max_features': [1, 2, 3, 4]}\n",
    "\n",
    "cross_validation = StratifiedKFold(n_splits=10)\n",
    "\n",
    "grid_search = GridSearchCV(random_forest_classifier,\n",
    "                           param_grid=parameter_grid,\n",
    "                           cv=cross_validation)\n",
    "\n",
    "grid_search.fit(all_inputs, all_labels)\n",
    "print('Best score: {}'.format(grid_search.best_score_))\n",
    "print('Best parameters: {}'.format(grid_search.best_params_))\n",
    "\n",
    "grid_search.best_estimator_"
   ]
  },
  {
   "cell_type": "markdown",
   "metadata": {},
   "source": [
    "Agora podemos comparar seu desempenho:"
   ]
  },
  {
   "cell_type": "code",
   "execution_count": null,
   "metadata": {},
   "outputs": [],
   "source": [
    "random_forest_classifier = grid_search.best_estimator_\n",
    "\n",
    "rf_df = pd.DataFrame({'accuracy': cross_val_score(random_forest_classifier, all_inputs, all_labels, cv=10),\n",
    "                       'classifier': ['Random Forest'] * 10})\n",
    "dt_df = pd.DataFrame({'accuracy': cross_val_score(decision_tree_classifier, all_inputs, all_labels, cv=10),\n",
    "                      'classifier': ['Decision Tree'] * 10})\n",
    "both_df = rf_df.append(dt_df)\n",
    "\n",
    "sb.boxplot(x='classifier', y='accuracy', data=both_df)\n",
    "sb.stripplot(x='classifier', y='accuracy', data=both_df, jitter=True, color='black')\n",
    ";"
   ]
  },
  {
   "cell_type": "markdown",
   "metadata": {},
   "source": [
    "Que tal isso? Ambos parecem ter o mesmo desempenho neste conjunto de dados. Provavelmente, isso se deve às limitações de nosso conjunto de dados: temos apenas 4 recursos para fazer a classificação, e os classificadores Random Forest se destacam quando há centenas de recursos possíveis para serem examinados. Em outras palavras, não havia muito espaço para melhorias com esse conjunto de dados."
   ]
  },
  {
   "cell_type": "markdown",
   "metadata": {},
   "source": [
    "## Etapa 6: Reprodutibilidade\n",
    "\n",
    "[[voltar ao topo]] (# Índice)\n",
    "\n",
    "Garantir que nosso trabalho seja reproduzível é a última e - sem dúvida - a mais importante etapa em qualquer análise. **Como regra, não devemos dar muito peso a uma descoberta que não pode ser reproduzida**. Sendo assim, se nossa análise não for reproduzível, poderíamos muito bem não ter feito isso.\n",
    "\n",
    "Notebooks como este ajudam muito a tornar nosso trabalho reproduzível. Como documentamos cada etapa à medida que avançamos, temos um registro escrito do que fizemos e por que o fizemos - tanto em texto quanto em código.\n",
    "\n",
    "Além de registrar o que fizemos, devemos também documentar qual software e hardware usamos para realizar nossa análise. Isso normalmente fica na parte superior de nossos blocos de notas para que nossos leitores saibam quais ferramentas usar.\n",
    "\n",
    "[Sebastian Raschka] (http://sebastianraschka.com/) criou uma [ferramenta de caderno] útil (https://github.com/rasbt/watermark) para isso:"
   ]
  },
  {
   "cell_type": "code",
   "execution_count": null,
   "metadata": {},
   "outputs": [],
   "source": [
    "%watermark -a 'Randal S. Olson' -nmv --packages numpy,pandas,sklearn,matplotlib,seaborn"
   ]
  },
  {
   "cell_type": "markdown",
   "metadata": {},
   "source": [
    "Por fim, vamos extrair o núcleo do nosso trabalho das etapas 1 a 5 e transformá-lo em um único pipeline."
   ]
  },
  {
   "cell_type": "code",
   "execution_count": null,
   "metadata": {},
   "outputs": [],
   "source": [
    "%matplotlib inline\n",
    "import pandas as pd\n",
    "import seaborn as sb\n",
    "from sklearn.ensemble import RandomForestClassifier\n",
    "from sklearn.model_selection import train_test_split, cross_val_score\n",
    "\n",
    "# We can jump directly to working with the clean data because we saved our cleaned data set\n",
    "iris_data_clean = pd.read_csv('iris-data-clean.csv')\n",
    "\n",
    "# Testing our data: Our analysis will stop here if any of these assertions are wrong\n",
    "\n",
    "# We know that we should only have three classes\n",
    "assert len(iris_data_clean['class'].unique()) == 3\n",
    "\n",
    "# We know that sepal lengths for 'Iris-versicolor' should never be below 2.5 cm\n",
    "assert iris_data_clean.loc[iris_data_clean['class'] == 'Iris-versicolor', 'sepal_length_cm'].min() >= 2.5\n",
    "\n",
    "# We know that our data set should have no missing measurements\n",
    "assert len(iris_data_clean.loc[(iris_data_clean['sepal_length_cm'].isnull()) |\n",
    "                               (iris_data_clean['sepal_width_cm'].isnull()) |\n",
    "                               (iris_data_clean['petal_length_cm'].isnull()) |\n",
    "                               (iris_data_clean['petal_width_cm'].isnull())]) == 0\n",
    "\n",
    "all_inputs = iris_data_clean[['sepal_length_cm', 'sepal_width_cm',\n",
    "                             'petal_length_cm', 'petal_width_cm']].values\n",
    "\n",
    "all_labels = iris_data_clean['class'].values\n",
    "\n",
    "# This is the classifier that came out of Grid Search\n",
    "random_forest_classifier = RandomForestClassifier(criterion='gini', max_features=3, n_estimators=50)\n",
    "\n",
    "# All that's left to do now is plot the cross-validation scores\n",
    "rf_classifier_scores = cross_val_score(random_forest_classifier, all_inputs, all_labels, cv=10)\n",
    "sb.boxplot(rf_classifier_scores)\n",
    "sb.stripplot(rf_classifier_scores, jitter=True, color='black')\n",
    "\n",
    "# ...and show some of the predictions from the classifier\n",
    "(training_inputs,\n",
    " testing_inputs,\n",
    " training_classes,\n",
    " testing_classes) = train_test_split(all_inputs, all_labels, test_size=0.25)\n",
    "\n",
    "random_forest_classifier.fit(training_inputs, training_classes)\n",
    "\n",
    "for input_features, prediction, actual in zip(testing_inputs[:10],\n",
    "                                              random_forest_classifier.predict(testing_inputs[:10]),\n",
    "                                              testing_classes[:10]):\n",
    "    print('{}\\t-->\\t{}\\t(Actual: {})'.format(input_features, prediction, actual))"
   ]
  },
  {
   "cell_type": "markdown",
   "metadata": {},
   "source": [
    "Aí está: temos um pipeline de aprendizado de máquina completo e reproduzível para demonstração para o chefe de dados de nossa empresa. Atendemos aos critérios de sucesso que definimos desde o início (> 90% de precisão), e nosso pipeline é flexível o suficiente para lidar com novas entradas ou flores quando o conjunto de dados estiver pronto. Nada mal para nossa primeira semana de trabalho!"
   ]
  },
  {
   "cell_type": "markdown",
   "metadata": {},
   "source": [
    "## Fonte:\n",
    "\n",
    "Traduzido e adaptado de https://github.com/rhiever/Data-Analysis-and-Machine-Learning-Projects"
   ]
  },
  {
   "cell_type": "code",
   "execution_count": null,
   "metadata": {},
   "outputs": [],
   "source": []
  }
 ],
 "metadata": {
  "kernelspec": {
   "display_name": "Python 3",
   "language": "python",
   "name": "python3"
  },
  "language_info": {
   "codemirror_mode": {
    "name": "ipython",
    "version": 3
   },
   "file_extension": ".py",
   "mimetype": "text/x-python",
   "name": "python",
   "nbconvert_exporter": "python",
   "pygments_lexer": "ipython3",
   "version": "3.8.3"
  }
 },
 "nbformat": 4,
 "nbformat_minor": 1
}
